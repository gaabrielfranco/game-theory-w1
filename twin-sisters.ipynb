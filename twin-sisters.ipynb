{
 "cells": [
  {
   "cell_type": "markdown",
   "metadata": {},
   "source": [
    "<p>\n",
    "<b>Data de entraga:</b> 29/10. \n",
    "<p>\n",
    "<b>Forma de entrega:</b> envie para levilelis@gmail.com o arquivo do seu notebook com a resposta teórica, a sua implementação, e o seu gráfico mostrando as frações das estratégias 49, 50 e 51 ao longo do tempo. \n",
    "\n",
    "<h3>Formulação do Problema</h3>\n",
    "\n",
    "Em um problema visto em sala de aula, a mãe oferece a irmãs gêmeas o seguinte presente de aniversário. Cada irmã irá escolher um valor inteiro entre R\\\\$1,00 e R\\\\$101,00. Se a soma dos dois valores não exceder R\\$101,00, as gêmeas ganham o valor pedido; elas recebem zero caso contrário. \n",
    "\n",
    "A estratégia que mais apareceu no nosso experimento em sala de aula foi R\\\\$50,00, mesmo sabendo que esse não é um equilíbrio de Nash: as irmãs têm um incentivo para desviar para R\\\\$51,00. Vamos derivar um equilíbrio de Nash com estratégias mistas em que joga-se quase sempre R\\$50,00, como observado em sala de aula. \n",
    "\n",
    "Vamos denotar com $s_x$ a estratégia em que uma irmã pede o valor de x reais. E vamos supor que a estratégia mista utilizada pelas duas irmãs é denotada por $\\sigma = p s_x + (1-p) s_y$, onde $p \\in (0, 1)$ e $(\\sigma, \\sigma)$ é um equilíbrio de Nash misto. Como vimos em sala de aula, todo equilíbrio desse jogo deve ter o formato $x + y = 101$, por isso podemos assumir, sem perda de generalidade, que $x < y = 101 - x$.\n",
    "\n",
    "Já que esse é um equilíbrio, a utilidade das duas estratégias $s_x$ e $s_y$ devem ser iguais. Quando jogando $s_x$, a jogadora garantidamente ganha $x$ reais. Quando jogando $s_y$, a jogadora ganha $y$ reais somente quando a outra irmã joga $s_x$, que ocorre com probabilidade $p$. Portanto, podemos escrever a frase \"a utilidade de $s_x$ é igual a utilidade de $s_y$\" matematicamente como: $x = py$.\n",
    "\n",
    "<h3>Questão teórica</h3>\n",
    "\n",
    "Mostre que qualquer $sigma$ satisfazendo as duas condições mostradas acima ($x < y = 101 - x$ e $x = py$) faz com que o perfil $(\\sigma, \\sigma)$ seja um equilíbrio de Nash. Para isso basta mostrar que qualquer estratégia pura $s_z$ obtém utilidade menor contra $\\sigma$ do que $\\sigma$ contra ela mesma. Dica: considere separadamente os seguintes casos: $z<x$, $x < z < 51$, $51 < z < y$ e $y < z$.  \n",
    "\n",
    "Embora muitos valores de $x$ e $y$ satisfaçam as condições acima, os valores que retornam a maior utilidade são $x=50$, $y=51$. Isso é fácil de ver pois a utilidade das jogadoras no equilíbrio é $x$. E o valor de $p$ é dado por $\\frac{50}{51} \\approx 1$. Portanto, a intuição de jogar a estratégia 50 é condizente com o equilíbrio Nash derivado. \n",
    "\n",
    "<h3>Questão de Implementação</h3>\n",
    "\n",
    "Nesse trabalho você irá implementar um algoritmo genético para aproximar o equilíbrio de Nash derivado acima. Essa abordagem genética é também conhecida como abordagem de agentes. Para tal, iremos escrever um programa de computador que irá gerar aleatoriamente uma população com $n$ agentes (estratégias do jogo, representados por um inteiro entre 1 e 101). \n",
    "\n",
    "<b>População e Adaptação</b>\n",
    "<p>\n",
    "A população será representada por um vetor de instâncias do objeto Agent (ver código abaixo). Em cada geração do processo, cada agente na população será pareado aleatoriamente com $k$ outros agentes da população. A capacidade de adaptação de cada agente (denotado por score na classe Agent abaixo) é a soma da utilidade do agente nessas $k$ partidas. \n",
    "    \n",
    "<b>Reprodução e Sobrevivência</b>\n",
    "<p>\n",
    "Após cada agente jogar $k$ partidas, iremos eliminar da população os $m$ agentes com pior score, que serão substituidos por cópias dos $m$ agentes com maior score (i.e., substituimos o agente com menor score por uma cópia do agente com maior score, depois substituimos o agente com segundo menor score por uma cópia do agente com segundo maior score, fazemos isso até atingir o valor $m$ trocas).\n",
    "\n",
    "<b>Mutação</b>\n",
    "<p>\n",
    "Após o processo de reprodução, iremos trocar, aleatoriamente a estratégia de $m$ agentes na população. Por exemplo, se um agente selecionado aleatoriamente representa a estratégia 43, iremos troca-la para um valor aleatório entre 1 e 101. \n",
    "    \n",
    "<b>Resultados Esperados</b>\n",
    "<p>\n",
    "Iremos medir, ao longo das gerações, a fração da população que representa as estratégias 49, 50 e 51. A figura abaixo mostra como a proporção dessas três estratégias em 1000 gerações. Os valores utilizados para gerar o gráfico abaixo foram: $n=1000$, $k=100$ e $m = 10$.\n",
    "\n",
    "<img src=\"plot.png\">\n",
    "\n",
    "No início do processo evolutivo a estratégia 49 aparece como uma boa opção. Eventualmente a proporção de agentes aproxima o equilíbrio de Nash misto encontrado acima: joga-se a estratégia 50 na maior parte das vezes, com eventuais escolhas da estratégia 51. \n",
    "\n",
    "Esse experimento mostra que a distribuição de indivíduos em uma população pode aproximar, através de um processo evolutivo, a distribuição de probabilidade de um equilíbrio de Nash."
   ]
  },
  {
   "cell_type": "markdown",
   "metadata": {},
   "source": [
    "### Bibliotecas"
   ]
  },
  {
   "cell_type": "code",
   "execution_count": 20,
   "metadata": {},
   "outputs": [],
   "source": [
    "import numpy as np\n",
    "import random\n",
    "import matplotlib.pylab as plt"
   ]
  },
  {
   "cell_type": "markdown",
   "metadata": {},
   "source": [
    "### Definição da classe Agente"
   ]
  },
  {
   "cell_type": "code",
   "execution_count": 23,
   "metadata": {},
   "outputs": [],
   "source": [
    "class Agent:\n",
    "    def __init__(self):\n",
    "        self._strategy = random.randint(1, 101)\n",
    "        self._score = 0\n",
    "    \n",
    "    def compute_score(self, agent):\n",
    "        if self._strategy + agent._strategy <= 101:\n",
    "            self._score += self._strategy\n",
    "            \n",
    "    def set_random_strategy(self):\n",
    "        self._strategy = random.randint(1, 101)\n",
    "        \n",
    "    def set_strategy(self, agent):\n",
    "        self._strategy = agent._strategy\n",
    "        \n",
    "    def get_strategy(self):\n",
    "        return self._strategy\n",
    "    \n",
    "    def reset_score(self):\n",
    "        self._score = 0\n",
    "    \n",
    "    def __str__(self):\n",
    "        return \"Estratégia: \" + str(self._strategy) + \" score: \" + str(self._score)    \n",
    "    \n",
    "    def __lt__(self, other):\n",
    "         return self._score > other._score"
   ]
  },
  {
   "cell_type": "markdown",
   "metadata": {},
   "source": [
    "### Função para plotar os resultados\n",
    "\n",
    "Esse trecho de código usa os dicionários <tt>strategies_tracked</tt> e <tt>fraction_agents</tt> que foram populados durante a execução do processo evolutivo"
   ]
  },
  {
   "cell_type": "code",
   "execution_count": 37,
   "metadata": {},
   "outputs": [],
   "source": [
    "def plot_results(strategies_tracked, fraction_agents, epochs):\n",
    "    for s in strategies_tracked:\n",
    "        plt.plot(list(range(1, len(fraction_agents[s]) + 1)), fraction_agents[s], label=str(s))\n",
    "    plt.legend(bbox_to_anchor=(1.05, 1), loc=2, borderaxespad=0.)\n",
    "    plt.xlabel('Gerações')\n",
    "    plt.ylabel('Fração na População')\n",
    "    plt.ylim(0, 1)\n",
    "    plt.xlim(0, epochs)\n",
    "    plt.show()"
   ]
  },
  {
   "cell_type": "markdown",
   "metadata": {},
   "source": [
    "### Algoritmo genético padrão\n",
    "\n",
    "Esse algoritmo foi implementado idêntico a especificação do trabalho, inclusive os parâmetros"
   ]
  },
  {
   "cell_type": "code",
   "execution_count": 38,
   "metadata": {},
   "outputs": [],
   "source": [
    "def GA(epochs = 1000, n = 1000, k = 100, m = 10):\n",
    "    # Geração da população de agentes\n",
    "    agents = []\n",
    "    for i in range(0, n):\n",
    "        agents.append(Agent())\n",
    "        \n",
    "    \n",
    "    strategies_tracked = {49, 50, 51}\n",
    "    \n",
    "    # O dict fraction_agents recebe a fração das estratégias 49, 50 e 51 nas várias gerações do processo evolutivo. \n",
    "    fraction_agents = {}\n",
    "    for s in strategies_tracked:\n",
    "        fraction_agents[s] = []\n",
    "        fraction_agents[s] = []\n",
    "        fraction_agents[s] = []\n",
    "    \n",
    "    # O dict number_agents contabiliza o número de agentes representando uma estratégia.\n",
    "    number_agents = {}\n",
    "    \n",
    "    # Para cada geração\n",
    "    for i in range(0, epochs):\n",
    "        # Cada agente joga k partidas contra jogadores aleatórios\n",
    "        for agent in agents:\n",
    "            for num_matches in range(0, k):\n",
    "                random_player = random.randint(0, n - 1)\n",
    "                agent.compute_score(agents[random_player])\n",
    "\n",
    "        # Ordena agentes pelo score\n",
    "        agents.sort()\n",
    "\n",
    "        # Faz as trocas dos m melhores com os m piores\n",
    "        for j in range(0, m):\n",
    "            agents[len(agents) - 1 - j].set_strategy(agents[j])\n",
    "\n",
    "        # Trocando o valor de m estratégias aleatóriamente\n",
    "        for j in range(0, m):\n",
    "            random_player = random.randint(0, n - 1)\n",
    "            agents[random_player].set_random_strategy()\n",
    "\n",
    "        # Limpando os scores para a próxima geração\n",
    "        for agent in agents:\n",
    "            agent.reset_score()\n",
    "\n",
    "        # Coletando estatísticas para gerar o gráfico\n",
    "        number_agents.clear()\n",
    "        for agent in agents:\n",
    "            strategy = agent.get_strategy()            \n",
    "            if strategy not in number_agents:\n",
    "                number_agents[strategy] = 1\n",
    "            else:\n",
    "                number_agents[strategy] += 1\n",
    "\n",
    "        # Calculando a fração das estratégias 49, 50 e 51 na população\n",
    "        for s in strategies_tracked:\n",
    "            if s in number_agents: \n",
    "                fraction_agents[s].append(number_agents[s]/n)\n",
    "                \n",
    "    plot_results(strategies_tracked, fraction_agents, epochs)"
   ]
  },
  {
   "cell_type": "markdown",
   "metadata": {},
   "source": [
    "### Testando variações do algoritmo genético"
   ]
  },
  {
   "cell_type": "markdown",
   "metadata": {},
   "source": [
    "1) Genético padrão"
   ]
  },
  {
   "cell_type": "code",
   "execution_count": 30,
   "metadata": {},
   "outputs": [
    {
     "data": {
      "image/png": "[encoded data removed]",
      "text/plain": [
       "<Figure size 432x288 with 1 Axes>"
      ]
     },
     "metadata": {
      "needs_background": "light"
     },
     "output_type": "display_data"
    }
   ],
   "source": [
    "GA()"
   ]
  },
  {
   "cell_type": "markdown",
   "metadata": {},
   "source": [
    "2) Genético padrão com $m = 100$"
   ]
  },
  {
   "cell_type": "code",
   "execution_count": 42,
   "metadata": {},
   "outputs": [
    {
     "data": {
      "image/png": "[encoded data removed]",
      "text/plain": [
       "<Figure size 432x288 with 1 Axes>"
      ]
     },
     "metadata": {
      "needs_background": "light"
     },
     "output_type": "display_data"
    }
   ],
   "source": [
    "GA(m = 100)"
   ]
  },
  {
   "cell_type": "markdown",
   "metadata": {},
   "source": [
    "3) Genético padrão com o dobro de gerações e com $m = 100$"
   ]
  },
  {
   "cell_type": "code",
   "execution_count": null,
   "metadata": {},
   "outputs": [],
   "source": [
    "GA(epochs = 2000, m=100)"
   ]
  },
  {
   "cell_type": "markdown",
   "metadata": {},
   "source": [
    "### TODO\n",
    "\n",
    "- Mutação: pag 237 do livro\n",
    "- Crossover:  \n",
    "    1) Média de 2 bons valores  \n",
    "    2) Olhar no livro"
   ]
  },
  {
   "cell_type": "code",
   "execution_count": null,
   "metadata": {},
   "outputs": [],
   "source": []
  }
 ],
 "metadata": {
  "kernelspec": {
   "display_name": "Python 3",
   "language": "python",
   "name": "python3"
  },
  "language_info": {
   "codemirror_mode": {
    "name": "ipython",
    "version": 3
   },
   "file_extension": ".py",
   "mimetype": "text/x-python",
   "name": "python",
   "nbconvert_exporter": "python",
   "pygments_lexer": "ipython3",
   "version": "3.7.0"
  }
 },
 "nbformat": 4,
 "nbformat_minor": 2
}
